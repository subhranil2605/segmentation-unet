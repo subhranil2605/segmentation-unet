{
  "nbformat": 4,
  "nbformat_minor": 0,
  "metadata": {
    "colab": {
      "provenance": [],
      "gpuType": "T4"
    },
    "kernelspec": {
      "name": "python3",
      "display_name": "Python 3"
    },
    "language_info": {
      "name": "python"
    },
    "accelerator": "GPU"
  },
  "cells": [
    {
      "cell_type": "markdown",
      "source": [
        "# Polyp Segementation using U-Net"
      ],
      "metadata": {
        "id": "VwDOpLexqfiF"
      }
    },
    {
      "cell_type": "markdown",
      "source": [
        "## Imports"
      ],
      "metadata": {
        "id": "GOK_OSJBqx0W"
      }
    },
    {
      "cell_type": "code",
      "source": [
        "import os\n",
        "import numpy as np\n",
        "import matplotlib.pyplot as plt\n",
        "import cv2\n",
        "from glob import glob\n",
        "from sklearn.model_selection import train_test_split\n",
        "\n",
        "import tensorflow as tf\n",
        "from tensorflow.keras.layers import Conv2D, BatchNormalization, Activation, MaxPool2D, UpSampling2D, Concatenate, Input\n",
        "from tensorflow.keras.models import Model\n",
        "from tensorflow.keras.callbacks import EarlyStopping, ModelCheckpoint, ReduceLROnPlateau, CSVLogger, TensorBoard"
      ],
      "metadata": {
        "id": "4LSPeY6BAGD3"
      },
      "execution_count": 5,
      "outputs": []
    },
    {
      "cell_type": "markdown",
      "source": [
        "## Data Preparation"
      ],
      "metadata": {
        "id": "6uIuwFDRARZ3"
      }
    },
    {
      "cell_type": "markdown",
      "source": [
        "### Data Download"
      ],
      "metadata": {
        "id": "J5r17clPq36A"
      }
    },
    {
      "cell_type": "markdown",
      "source": [
        "Install kaggle"
      ],
      "metadata": {
        "id": "T1l4wd_86gn0"
      }
    },
    {
      "cell_type": "code",
      "execution_count": 1,
      "metadata": {
        "id": "n3uK0VcevJ3w"
      },
      "outputs": [],
      "source": [
        "# !pip install kaggle"
      ]
    },
    {
      "cell_type": "markdown",
      "source": [
        "Set up to download kaggle datasets"
      ],
      "metadata": {
        "id": "GiVtJJfE6o5j"
      }
    },
    {
      "cell_type": "code",
      "source": [
        "# %%bash\n",
        "# mkdir ~/.kaggle\n",
        "# cp kaggle.json ~/.kaggle/\n",
        "# chmod 600 ~/.kaggle/kaggle.json"
      ],
      "metadata": {
        "id": "m7KqvtYKvpGm"
      },
      "execution_count": 2,
      "outputs": []
    },
    {
      "cell_type": "markdown",
      "source": [
        "Download the data from Kaggle"
      ],
      "metadata": {
        "id": "wLl51LRI6k9H"
      }
    },
    {
      "cell_type": "code",
      "source": [
        "# !kaggle datasets download -d balraj98/cvcclinicdb"
      ],
      "metadata": {
        "id": "yC-ZJ87Kvp4k"
      },
      "execution_count": 3,
      "outputs": []
    },
    {
      "cell_type": "markdown",
      "source": [
        "Unzip the dataset and store it in the drive"
      ],
      "metadata": {
        "id": "z-V1bYPw6wy4"
      }
    },
    {
      "cell_type": "code",
      "source": [
        "# !unzip /content/cvcclinicdb.zip -d /content/drive/MyDrive/image_segmentation/cvcclinic_data/"
      ],
      "metadata": {
        "id": "o7FQyTVE5ARn"
      },
      "execution_count": 4,
      "outputs": []
    },
    {
      "cell_type": "markdown",
      "source": [
        "### Load Images and Masks"
      ],
      "metadata": {
        "id": "DUf1FmbOCmQe"
      }
    },
    {
      "cell_type": "code",
      "source": [
        "DATASET_PATH: str = \"/content/drive/MyDrive/image_segmentation/cvcclinic_data/\"\n",
        "ORIGINAL_IMAGES: str = os.path.join(DATASET_PATH, \"PNG/Original\")\n",
        "MASK_IMAGES: str = os.path.join(DATASET_PATH, \"PNG/Ground Truth\")\n",
        "\n",
        "# Hyperparameters\n",
        "BATCH: int = 8\n",
        "lr: float = 1e-4\n",
        "EPOCHS: int = 20"
      ],
      "metadata": {
        "id": "hL0iMCxyD2Si"
      },
      "execution_count": 44,
      "outputs": []
    },
    {
      "cell_type": "code",
      "source": [
        "def load_data(split: int = 0.1):\n",
        "\n",
        "    images = sorted(glob(ORIGINAL_IMAGES + \"/*.png\"))\n",
        "    masks = sorted(glob(MASK_IMAGES + \"/*.png\"))\n",
        "\n",
        "    total_size: int = len(images)\n",
        "    valid_size: int = int(split * total_size)\n",
        "    test_size: int = int(split * total_size)\n",
        "\n",
        "    train_x, valid_x = train_test_split(images, test_size=valid_size, random_state=42)\n",
        "    train_y, valid_y = train_test_split(masks, test_size=valid_size, random_state=42)\n",
        "\n",
        "    train_x, test_x = train_test_split(train_x, test_size=test_size, random_state=42)\n",
        "    train_y, test_y = train_test_split(train_y, test_size=test_size, random_state=42)\n",
        "\n",
        "    return (train_x, train_y), (valid_x, valid_y), (test_x, test_y)\n",
        "\n",
        "\n",
        "def read_image(path):\n",
        "    path = path.decode()\n",
        "\n",
        "    img = cv2.imread(path, cv2.IMREAD_COLOR)\n",
        "\n",
        "    # resize the image\n",
        "    img = cv2.resize(img, (256, 256))\n",
        "\n",
        "    # normalize\n",
        "    img = img / 255.0\n",
        "    return img\n",
        "\n",
        "def read_mask(path):\n",
        "    path = path.decode()\n",
        "\n",
        "    mask_img = cv2.imread(path, cv2.IMREAD_GRAYSCALE)\n",
        "\n",
        "    # resize the image\n",
        "    mask_img = cv2.resize(mask_img, (256, 256))\n",
        "\n",
        "    # normalize\n",
        "    mask_img = mask_img / 255.0\n",
        "\n",
        "    mask_img = np.expand_dims(mask_img, axis=-1)\n",
        "    \n",
        "    return mask_img\n",
        "\n",
        "\n",
        "def tf_parse(x, y):\n",
        "    def _parse(x, y):\n",
        "        x = read_image(x)\n",
        "        y = read_mask(y)\n",
        "        return x, y\n",
        "\n",
        "    x, y = tf.numpy_function(_parse, [x, y], [tf.float64, tf.float64])\n",
        "\n",
        "    x.set_shape([256, 256, 3])\n",
        "    y.set_shape([256, 256, 1])\n",
        "\n",
        "    return x, y\n",
        "\n",
        "\n",
        "# to create tensorflow dataset\n",
        "def tf_dataset(x, y, batch: int = 8):\n",
        "    dataset = tf.data.Dataset.from_tensor_slices((x, y))\n",
        "    dataset = dataset.map(tf_parse)\n",
        "    dataset = dataset.batch(batch)\n",
        "    dataset = dataset.repeat()\n",
        "    return dataset"
      ],
      "metadata": {
        "id": "e5Ufcrr4D9VT"
      },
      "execution_count": 7,
      "outputs": []
    },
    {
      "cell_type": "code",
      "source": [
        "(train_x, train_y), (valid_x, valid_y), (test_x, test_y) = load_data()\n",
        "\n",
        "train_dataset = tf_dataset(train_x, train_y, batch=BATCH)\n",
        "valid_dataset = tf_dataset(valid_x, valid_y, batch=BATCH)"
      ],
      "metadata": {
        "id": "_HZdaw-ZrlgU"
      },
      "execution_count": 38,
      "outputs": []
    },
    {
      "cell_type": "code",
      "source": [
        "for image_batch, mask_batch in train_dataset.take(1):\n",
        "    for i in range(4):\n",
        "        plt.subplot(2, 2, i + 1)\n",
        "        if i % 2 == 0: \n",
        "            plt.imshow(image_batch[i])\n",
        "        else:\n",
        "            plt.imshow(mask_batch[i])\n",
        "        plt.axis(\"off\")"
      ],
      "metadata": {
        "colab": {
          "base_uri": "https://localhost:8080/",
          "height": 406
        },
        "id": "XtL6kwvcrubU",
        "outputId": "fb37ad58-a357-4202-81a3-833c8708f373"
      },
      "execution_count": 39,
      "outputs": [
        {
          "output_type": "display_data",
          "data": {
            "text/plain": [
              "<Figure size 640x480 with 4 Axes>"
            ],
            "image/png": "[encoded data removed]"
          },
          "metadata": {}
        }
      ]
    },
    {
      "cell_type": "markdown",
      "source": [
        "## Model"
      ],
      "metadata": {
        "id": "CAp-ESMhPl05"
      }
    },
    {
      "cell_type": "code",
      "source": [
        "def conv_block(x, num_filters):\n",
        "    x = Conv2D(num_filters, (3, 3), padding=\"same\")(x)\n",
        "    x = BatchNormalization()(x)\n",
        "    x = Activation(\"relu\")(x)\n",
        "\n",
        "    x = Conv2D(num_filters, (3, 3), padding=\"same\")(x)\n",
        "    x = BatchNormalization()(x)\n",
        "    x = Activation(\"relu\")(x)\n",
        "\n",
        "    return x\n",
        "\n",
        "\n",
        "def build_model():\n",
        "    size: int = 256\n",
        "    num_filters: list[int] = [16, 32, 48, 64]\n",
        "\n",
        "    inputs = Input((size, size, 3))\n",
        "\n",
        "    skip_x = []\n",
        "    x = inputs\n",
        "\n",
        "    # Encoder\n",
        "    for f in num_filters:\n",
        "        x = conv_block(x, f)\n",
        "        skip_x.append(x)\n",
        "        x = MaxPool2D((2, 2))(x)\n",
        "\n",
        "    # Bridge\n",
        "    x = conv_block(x, num_filters[-1])\n",
        "\n",
        "    num_filters.reverse()\n",
        "    skip_x.reverse()\n",
        "\n",
        "    # Decoder\n",
        "    for i, f in enumerate(num_filters):\n",
        "        x = UpSampling2D((2, 2))(x)\n",
        "        xs = skip_x[i]\n",
        "        x = Concatenate()([x, xs])\n",
        "        x = conv_block(x, f)\n",
        "    \n",
        "    # output\n",
        "    x = Conv2D(1, (1, 1), padding=\"same\")(x)\n",
        "    x = Activation(\"sigmoid\")(x)\n",
        "\n",
        "    return Model(inputs, x)"
      ],
      "metadata": {
        "id": "v2qaWSNlKH9j"
      },
      "execution_count": 8,
      "outputs": []
    },
    {
      "cell_type": "code",
      "source": [
        "model = build_model()\n",
        "\n",
        "model.summary()"
      ],
      "metadata": {
        "id": "EX4rx6wBSCnW"
      },
      "execution_count": null,
      "outputs": []
    },
    {
      "cell_type": "markdown",
      "source": [
        "## Train"
      ],
      "metadata": {
        "id": "WjpnYlztSpMs"
      }
    },
    {
      "cell_type": "code",
      "source": [
        "def iou(y_true, y_pred):\n",
        "    def f(y_true, y_pred):\n",
        "        intersection = (y_true * y_pred).sum()\n",
        "        union = y_true.sum() + y_pred.sum() - intersection\n",
        "        x = (intersection + 1e-15) / (union + 1e-15)\n",
        "        x = x.astype(np.float32)\n",
        "        return x\n",
        "    \n",
        "    return tf.numpy_function(f, [y_true, y_pred], tf.float32)"
      ],
      "metadata": {
        "id": "93F9axwrSJqs"
      },
      "execution_count": 10,
      "outputs": []
    },
    {
      "cell_type": "code",
      "source": [
        "# optimizer\n",
        "opt = tf.keras.optimizers.Adam(lr)\n",
        "\n",
        "# metrices\n",
        "metrics = [\"acc\", tf.keras.metrics.Recall(), tf.keras.metrics.Precision(), iou]\n",
        "\n",
        "# compile the model\n",
        "model.compile(loss=\"binary_crossentropy\", optimizer=opt, metrics=metrics)\n",
        "\n",
        "# callbacks\n",
        "callbacks = [\n",
        "    ModelCheckpoint(\"files/model.h5\"),\n",
        "    ReduceLROnPlateau(monitor=\"val_loss\", factor=0.1, patience=4),\n",
        "    CSVLogger(\"files/data.csv\"),\n",
        "    EarlyStopping(monitor='val_loss', patience=10, restore_best_weights=False)\n",
        "]\n",
        "\n",
        "\n",
        "train_steps = len(train_x) // BATCH\n",
        "valid_steps = len(valid_x) // BATCH\n",
        "\n",
        "if len(train_x) % BATCH != 0:\n",
        "    train_steps += 1\n",
        "\n",
        "if len(valid_x) % BATCH != 0:\n",
        "    valid_steps += 1"
      ],
      "metadata": {
        "id": "BxhUZlOecOBh"
      },
      "execution_count": 13,
      "outputs": []
    },
    {
      "cell_type": "code",
      "source": [
        "history = model.fit(\n",
        "    train_dataset,\n",
        "    validation_data=valid_dataset,\n",
        "    epochs=EPOCHS,\n",
        "    steps_per_epoch=train_steps,\n",
        "    validation_steps=valid_steps,\n",
        "    callbacks=callbacks\n",
        ")"
      ],
      "metadata": {
        "colab": {
          "base_uri": "https://localhost:8080/"
        },
        "id": "6ErHx7zKVNPD",
        "outputId": "2ce065f6-1a1f-4009-c2fe-65d1cff49e50"
      },
      "execution_count": 14,
      "outputs": [
        {
          "output_type": "stream",
          "name": "stdout",
          "text": [
            "Epoch 1/20\n",
            "62/62 [==============================] - 162s 2s/step - loss: 0.5464 - acc: 0.7548 - recall: 0.3732 - precision: 0.1630 - iou: 0.0958 - val_loss: 0.6908 - val_acc: 0.5700 - val_recall: 0.7331 - val_precision: 0.1372 - val_iou: 0.0773 - lr: 1.0000e-04\n",
            "Epoch 2/20\n",
            "62/62 [==============================] - 8s 125ms/step - loss: 0.3674 - acc: 0.8897 - recall: 0.1980 - precision: 0.3648 - iou: 0.1081 - val_loss: 0.4384 - val_acc: 0.9058 - val_recall: 1.9700e-04 - val_precision: 0.0026 - val_iou: 0.0636 - lr: 1.0000e-04\n",
            "Epoch 3/20\n",
            "62/62 [==============================] - 8s 133ms/step - loss: 0.3111 - acc: 0.9121 - recall: 0.3986 - precision: 0.5640 - iou: 0.1379 - val_loss: 0.3467 - val_acc: 0.9085 - val_recall: 1.9700e-04 - val_precision: 0.0044 - val_iou: 0.0553 - lr: 1.0000e-04\n",
            "Epoch 4/20\n",
            "62/62 [==============================] - 7s 115ms/step - loss: 0.2771 - acc: 0.9233 - recall: 0.5129 - precision: 0.6287 - iou: 0.1673 - val_loss: 0.3154 - val_acc: 0.9116 - val_recall: 0.0000e+00 - val_precision: 0.0000e+00 - val_iou: 0.0535 - lr: 1.0000e-04\n",
            "Epoch 5/20\n",
            "62/62 [==============================] - 8s 129ms/step - loss: 0.2504 - acc: 0.9340 - recall: 0.5721 - precision: 0.6962 - iou: 0.1989 - val_loss: 0.3088 - val_acc: 0.9094 - val_recall: 0.0134 - val_precision: 0.2233 - val_iou: 0.0541 - lr: 1.0000e-04\n",
            "Epoch 6/20\n",
            "62/62 [==============================] - 7s 117ms/step - loss: 0.2270 - acc: 0.9434 - recall: 0.6256 - precision: 0.7554 - iou: 0.2335 - val_loss: 0.2996 - val_acc: 0.9097 - val_recall: 0.0449 - val_precision: 0.3770 - val_iou: 0.0617 - lr: 1.0000e-04\n",
            "Epoch 7/20\n",
            "62/62 [==============================] - 8s 121ms/step - loss: 0.2091 - acc: 0.9499 - recall: 0.6644 - precision: 0.7940 - iou: 0.2618 - val_loss: 0.2844 - val_acc: 0.9141 - val_recall: 0.0675 - val_precision: 0.5917 - val_iou: 0.0711 - lr: 1.0000e-04\n",
            "Epoch 8/20\n",
            "62/62 [==============================] - 8s 131ms/step - loss: 0.1924 - acc: 0.9556 - recall: 0.6995 - precision: 0.8258 - iou: 0.2896 - val_loss: 0.2628 - val_acc: 0.9189 - val_recall: 0.1220 - val_precision: 0.7272 - val_iou: 0.0983 - lr: 1.0000e-04\n",
            "Epoch 9/20\n",
            "62/62 [==============================] - 7s 115ms/step - loss: 0.1788 - acc: 0.9596 - recall: 0.7223 - precision: 0.8493 - iou: 0.3121 - val_loss: 0.2334 - val_acc: 0.9293 - val_recall: 0.2875 - val_precision: 0.7639 - val_iou: 0.1606 - lr: 1.0000e-04\n",
            "Epoch 10/20\n",
            "62/62 [==============================] - 8s 128ms/step - loss: 0.1677 - acc: 0.9623 - recall: 0.7420 - precision: 0.8624 - iou: 0.3327 - val_loss: 0.2121 - val_acc: 0.9388 - val_recall: 0.5292 - val_precision: 0.7121 - val_iou: 0.2360 - lr: 1.0000e-04\n",
            "Epoch 11/20\n",
            "62/62 [==============================] - 7s 107ms/step - loss: 0.1565 - acc: 0.9654 - recall: 0.7661 - precision: 0.8747 - iou: 0.3539 - val_loss: 0.2816 - val_acc: 0.9170 - val_recall: 0.6297 - val_precision: 0.5313 - val_iou: 0.2419 - lr: 1.0000e-04\n",
            "Epoch 12/20\n",
            "62/62 [==============================] - 8s 133ms/step - loss: 0.1510 - acc: 0.9658 - recall: 0.7662 - precision: 0.8788 - iou: 0.3632 - val_loss: 0.1995 - val_acc: 0.9436 - val_recall: 0.6466 - val_precision: 0.7047 - val_iou: 0.2842 - lr: 1.0000e-04\n",
            "Epoch 13/20\n",
            "62/62 [==============================] - 7s 105ms/step - loss: 0.1406 - acc: 0.9691 - recall: 0.7855 - precision: 0.8963 - iou: 0.3842 - val_loss: 0.1825 - val_acc: 0.9504 - val_recall: 0.6994 - val_precision: 0.7392 - val_iou: 0.3133 - lr: 1.0000e-04\n",
            "Epoch 14/20\n",
            "62/62 [==============================] - 8s 127ms/step - loss: 0.1298 - acc: 0.9726 - recall: 0.8107 - precision: 0.9120 - iou: 0.4074 - val_loss: 0.2590 - val_acc: 0.9213 - val_recall: 0.8348 - val_precision: 0.5421 - val_iou: 0.3123 - lr: 1.0000e-04\n",
            "Epoch 15/20\n",
            "62/62 [==============================] - 7s 114ms/step - loss: 0.1250 - acc: 0.9732 - recall: 0.8146 - precision: 0.9143 - iou: 0.4188 - val_loss: 0.1834 - val_acc: 0.9480 - val_recall: 0.7465 - val_precision: 0.7007 - val_iou: 0.3363 - lr: 1.0000e-04\n",
            "Epoch 16/20\n",
            "62/62 [==============================] - 8s 128ms/step - loss: 0.1195 - acc: 0.9741 - recall: 0.8236 - precision: 0.9161 - iou: 0.4323 - val_loss: 0.1869 - val_acc: 0.9461 - val_recall: 0.7570 - val_precision: 0.6846 - val_iou: 0.3396 - lr: 1.0000e-04\n",
            "Epoch 17/20\n",
            "62/62 [==============================] - 7s 109ms/step - loss: 0.1151 - acc: 0.9746 - recall: 0.8262 - precision: 0.9184 - iou: 0.4424 - val_loss: 0.2857 - val_acc: 0.9129 - val_recall: 0.8545 - val_precision: 0.5110 - val_iou: 0.3266 - lr: 1.0000e-04\n",
            "Epoch 18/20\n",
            "62/62 [==============================] - 8s 129ms/step - loss: 0.1110 - acc: 0.9754 - recall: 0.8399 - precision: 0.9157 - iou: 0.4544 - val_loss: 0.1490 - val_acc: 0.9582 - val_recall: 0.6502 - val_precision: 0.8529 - val_iou: 0.3434 - lr: 1.0000e-05\n",
            "Epoch 19/20\n",
            "62/62 [==============================] - 6s 103ms/step - loss: 0.1031 - acc: 0.9793 - recall: 0.8594 - precision: 0.9388 - iou: 0.4688 - val_loss: 0.1482 - val_acc: 0.9587 - val_recall: 0.6489 - val_precision: 0.8591 - val_iou: 0.3422 - lr: 1.0000e-05\n",
            "Epoch 20/20\n",
            "62/62 [==============================] - 8s 130ms/step - loss: 0.1008 - acc: 0.9803 - recall: 0.8673 - precision: 0.9426 - iou: 0.4745 - val_loss: 0.1482 - val_acc: 0.9587 - val_recall: 0.6479 - val_precision: 0.8606 - val_iou: 0.3416 - lr: 1.0000e-05\n"
          ]
        }
      ]
    },
    {
      "cell_type": "code",
      "source": [
        "acc = history.history['acc']\n",
        "val_acc = history.history['val_acc']\n",
        "loss = history.history['loss']\n",
        "val_loss = history.history['val_loss']\n",
        "\n",
        "iou = history.history['iou']\n",
        "val_iou = history.history['val_iou']\n",
        "recall = history.history['recall']\n",
        "val_recall = history.history['val_recall']\n",
        "precision = history.history['precision']\n",
        "val_precision = history.history['val_precision']"
      ],
      "metadata": {
        "id": "67e-5zZJY1r7"
      },
      "execution_count": 20,
      "outputs": []
    },
    {
      "cell_type": "code",
      "source": [
        "def train_val_plot(acc, val_acc, loss, val_loss, iou, val_iou, recall, val_recall, precision, val_precision):\n",
        "    fig, axs = plt.subplots(2, 2, figsize=(15, 10))\n",
        "    fig.suptitle(\"Model's Metrics Visualization\")\n",
        "\n",
        "    # Plot accuracy\n",
        "    axs[0, 0].plot(range(1, len(acc) + 1), acc)\n",
        "    axs[0, 0].plot(range(1, len(val_acc) + 1), val_acc)\n",
        "    axs[0, 0].set_title('History of Accuracy')\n",
        "    axs[0, 0].set_xlabel('Epochs')\n",
        "    axs[0, 0].set_ylabel('Accuracy')\n",
        "    axs[0, 0].legend(['Training', 'Validation'])\n",
        "\n",
        "    # Plot loss\n",
        "    axs[0, 1].plot(range(1, len(loss) + 1), loss)\n",
        "    axs[0, 1].plot(range(1, len(val_loss) + 1), val_loss)\n",
        "    axs[0, 1].set_title('History of Loss')\n",
        "    axs[0, 1].set_xlabel('Epochs')\n",
        "    axs[0, 1].set_ylabel('Loss')\n",
        "    axs[0, 1].legend(['Training', 'Validation'])\n",
        "\n",
        "    # Plot IOU\n",
        "    axs[1, 0].plot(range(1, len(iou) + 1), iou)\n",
        "    axs[1, 0].plot(range(1, len(val_iou) + 1), val_iou)\n",
        "    axs[1, 0].set_title('History of IOU')\n",
        "    axs[1, 0].set_xlabel('Epochs')\n",
        "    axs[1, 0].set_ylabel('IOU')\n",
        "    axs[1, 0].legend(['Training', 'Validation'])\n",
        "\n",
        "    # Plot recall and precision\n",
        "    axs[1, 1].plot(range(1, len(recall) + 1), recall)\n",
        "    axs[1, 1].plot(range(1, len(val_recall) + 1), val_recall)\n",
        "    axs[1, 1].plot(range(1, len(precision) + 1), precision)\n",
        "    axs[1, 1].plot(range(1, len(val_precision) + 1), val_precision)\n",
        "    axs[1, 1].set_title('History of Recall and Precision')\n",
        "    axs[1, 1].set_xlabel('Epochs')\n",
        "    axs[1, 1].set_ylabel('Score')\n",
        "    axs[1, 1].legend(['Training Recall', 'Validation Recall', 'Training Precision', 'Validation Precision'])\n",
        "\n",
        "    plt.tight_layout()\n",
        "    plt.show()\n",
        "\n",
        "\n",
        "train_val_plot(acc, val_acc, loss, val_loss, iou, val_iou, recall, val_recall, precision, val_precision)"
      ],
      "metadata": {
        "id": "kNQH36XVjDyF"
      },
      "execution_count": null,
      "outputs": []
    },
    {
      "cell_type": "markdown",
      "source": [
        "## Evaluate the model"
      ],
      "metadata": {
        "id": "pO9qGW6VkK2L"
      }
    },
    {
      "cell_type": "code",
      "source": [
        "test_dataset = tf_dataset(test_x, test_y, batch=1)\n",
        "test_steps = len(test_x) // 1\n",
        "\n",
        "if len(test_x) % 1 != 0:\n",
        "    test_steps += 1\n",
        "\n",
        "model.evaluate(test_dataset, steps=test_steps)"
      ],
      "metadata": {
        "colab": {
          "base_uri": "https://localhost:8080/"
        },
        "id": "ocOVPjJZj7pr",
        "outputId": "b3453f48-bfda-4a65-c516-3d28a6afc559"
      },
      "execution_count": 48,
      "outputs": [
        {
          "output_type": "stream",
          "name": "stdout",
          "text": [
            "61/61 [==============================] - 1s 21ms/step - loss: 0.1653 - acc: 0.9505 - recall: 0.6385 - precision: 0.8302 - iou: 0.2967\n"
          ]
        },
        {
          "output_type": "execute_result",
          "data": {
            "text/plain": [
              "[0.16530346870422363,\n",
              " 0.9505492448806763,\n",
              " 0.6385287642478943,\n",
              " 0.8302450776100159,\n",
              " 0.29672861099243164]"
            ]
          },
          "metadata": {},
          "execution_count": 48
        }
      ]
    },
    {
      "cell_type": "markdown",
      "source": [
        "## Predict"
      ],
      "metadata": {
        "id": "g8-f9EEvmqCq"
      }
    },
    {
      "cell_type": "code",
      "source": [
        "def pred_read_image(path):\n",
        "    x = cv2.imread(path, cv2.IMREAD_COLOR)\n",
        "    x = cv2.resize(x, (256, 256))\n",
        "    x = x / 255.0\n",
        "    return x\n",
        "\n",
        "def pred_read_mask(path):\n",
        "    x = cv2.imread(path, cv2.IMREAD_GRAYSCALE)\n",
        "    x = cv2.resize(x, (256, 256))\n",
        "    x = np.expand_dims(x, axis=-1)\n",
        "    return x\n",
        "\n",
        "def pred_mask_parse(mask):\n",
        "    mask = np.squeeze(mask)\n",
        "    mask = [mask, mask, mask]\n",
        "    mask = np.transpose(mask, (1, 2, 0))\n",
        "    return mask"
      ],
      "metadata": {
        "id": "HxsMtyiIkl41"
      },
      "execution_count": 32,
      "outputs": []
    },
    {
      "cell_type": "code",
      "source": [
        "for i, (x, y) in enumerate(zip(test_x, test_y)):\n",
        "    x = pred_read_image(x)\n",
        "    \n",
        "    y = pred_read_mask(y)\n",
        "\n",
        "    y_pred = model.predict(np.expand_dims(x, axis=0))[0] > 0.5\n",
        "\n",
        "    h, w, _ = x.shape\n",
        "    white_line = np.ones((h, 10, 3)) * 255.0\n",
        "\n",
        "    all_images = [\n",
        "        x * 255.0, white_line,\n",
        "        pred_mask_parse(y), white_line,\n",
        "        pred_mask_parse(y_pred) * 255.0\n",
        "    ]\n",
        "    image = np.concatenate(all_images, axis=1)\n",
        "\n",
        "    cv2.imwrite(f\"results/{i}.png\", image)"
      ],
      "metadata": {
        "id": "XFTA_N8flFkk"
      },
      "execution_count": null,
      "outputs": []
    },
    {
      "cell_type": "markdown",
      "source": [
        "## Creating zip file of the results"
      ],
      "metadata": {
        "id": "vlGZ_lovqNsX"
      }
    },
    {
      "cell_type": "code",
      "source": [
        "import shutil\n",
        "\n",
        "# Specify the folder path you want to download\n",
        "folder_path = '/content/results/'\n",
        "\n",
        "# Specify the destination zip file path\n",
        "zip_file_path = '/content/results.zip'\n",
        "\n",
        "# Create a zip file of the folder\n",
        "shutil.make_archive(zip_file_path, 'zip', folder_path)"
      ],
      "metadata": {
        "colab": {
          "base_uri": "https://localhost:8080/",
          "height": 35
        },
        "id": "vhXSIZWJl5dA",
        "outputId": "0b365fef-dfd3-4543-83d3-36dcdd15c38f"
      },
      "execution_count": 35,
      "outputs": [
        {
          "output_type": "execute_result",
          "data": {
            "text/plain": [
              "'/content/results.zip.zip'"
            ],
            "application/vnd.google.colaboratory.intrinsic+json": {
              "type": "string"
            }
          },
          "metadata": {},
          "execution_count": 35
        }
      ]
    }
  ]
}